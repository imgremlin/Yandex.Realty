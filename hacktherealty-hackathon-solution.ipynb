{
 "cells": [
  {
   "cell_type": "markdown",
   "metadata": {
    "papermill": {
     "duration": 0.026921,
     "end_time": "2020-09-27T21:40:21.848741",
     "exception": false,
     "start_time": "2020-09-27T21:40:21.821820",
     "status": "completed"
    },
    "tags": []
   },
   "source": [
    "![logo](https://media.rbcdn.ru/media/upload_tmp/2018/rb-1200-628.png)"
   ]
  },
  {
   "cell_type": "markdown",
   "metadata": {
    "papermill": {
     "duration": 0.025132,
     "end_time": "2020-09-27T21:40:21.899733",
     "exception": false,
     "start_time": "2020-09-27T21:40:21.874601",
     "status": "completed"
    },
    "tags": []
   },
   "source": [
    "# HackTheRealty Hackathon by Yandex\n",
    "\n",
    "**by team GORNYAKI (Tsepa Oleksii and Samoshyn Andriy [Ukraine, KPI, IASA])**"
   ]
  },
  {
   "cell_type": "markdown",
   "metadata": {
    "papermill": {
     "duration": 0.027571,
     "end_time": "2020-09-27T21:40:21.952812",
     "exception": false,
     "start_time": "2020-09-27T21:40:21.925241",
     "status": "completed"
    },
    "tags": []
   },
   "source": [
    "**Task:** to build a model that predicts the duration of the exposure of advert for the sale of a flat on Yandex.Realty.\n",
    "\n",
    "**Data:** adverts from the Yandex.Realty estate archive with exposure dates. By placing an object on Yandex.Realty, everyone wants to sell or rent it as quickly as possible for the maximum price for this object. The archive of the service contains hundreds of thousands of publications with exposure dates (dates for placing and withdrawing advertisements). On the service, organizers want to tell users how long they will wait for a buyer or tenant for their property given the current characteristics.\n",
    "\n",
    "**The metric by which the solutions are evaluated is written as follows:**\n",
    "\n",
    "$$metric = -{1 \\over l}\\sum\\limits_{i=1}^{l} {\\exp}^{|prediction_i-taget_i|} -1$$\n",
    "\n",
    "To construct the target variable, the placement period is divided into several classes, each of which corresponds to an integer: **\"less than 7 days\" (1), \"7-14 days\" (2), \"15-30 days\" (3), \"30- 70 days \"(4),\" more than 70 days \"(5).**"
   ]
  },
  {
   "cell_type": "code",
   "execution_count": 1,
   "metadata": {
    "execution": {
     "iopub.execute_input": "2020-09-27T21:40:22.012022Z",
     "iopub.status.busy": "2020-09-27T21:40:22.010892Z",
     "iopub.status.idle": "2020-09-27T21:40:22.013943Z",
     "shell.execute_reply": "2020-09-27T21:40:22.013132Z"
    },
    "papermill": {
     "duration": 0.035784,
     "end_time": "2020-09-27T21:40:22.014083",
     "exception": false,
     "start_time": "2020-09-27T21:40:21.978299",
     "status": "completed"
    },
    "tags": []
   },
   "outputs": [],
   "source": [
    "def metric(y_true, y_real):\n",
    "    return -1*np.mean(np.exp(np.abs(y_true-y_real)) - 1)"
   ]
  },
  {
   "cell_type": "markdown",
   "metadata": {
    "papermill": {
     "duration": 0.025216,
     "end_time": "2020-09-27T21:40:22.065298",
     "exception": false,
     "start_time": "2020-09-27T21:40:22.040082",
     "status": "completed"
    },
    "tags": []
   },
   "source": [
    "# Understanding the data"
   ]
  },
  {
   "cell_type": "code",
   "execution_count": 2,
   "metadata": {
    "execution": {
     "iopub.execute_input": "2020-09-27T21:40:22.129471Z",
     "iopub.status.busy": "2020-09-27T21:40:22.128624Z",
     "iopub.status.idle": "2020-09-27T21:40:28.076243Z",
     "shell.execute_reply": "2020-09-27T21:40:28.075370Z"
    },
    "papermill": {
     "duration": 5.984453,
     "end_time": "2020-09-27T21:40:28.076388",
     "exception": false,
     "start_time": "2020-09-27T21:40:22.091935",
     "status": "completed"
    },
    "tags": []
   },
   "outputs": [],
   "source": [
    "import numpy as np\n",
    "import pandas as pd\n",
    "import matplotlib.pyplot as plt\n",
    "import seaborn as sns\n",
    "\n",
    "train = pd.read_csv('/kaggle/input/yandex-exposition-task/exposition_train.tsv', sep='\\t')\n",
    "test = pd.read_csv('/kaggle/input/yandex-exposition-task/exposition_test.tsv', sep='\\t')\n",
    "submission = pd.read_csv('/kaggle/input/yandex-exposition-task/exposition_sample_submission.tsv', sep='\\t')"
   ]
  },
  {
   "cell_type": "code",
   "execution_count": 3,
   "metadata": {
    "execution": {
     "iopub.execute_input": "2020-09-27T21:40:28.158901Z",
     "iopub.status.busy": "2020-09-27T21:40:28.138217Z",
     "iopub.status.idle": "2020-09-27T21:40:28.176337Z",
     "shell.execute_reply": "2020-09-27T21:40:28.176945Z"
    },
    "papermill": {
     "duration": 0.074232,
     "end_time": "2020-09-27T21:40:28.177123",
     "exception": false,
     "start_time": "2020-09-27T21:40:28.102891",
     "status": "completed"
    },
    "tags": []
   },
   "outputs": [
    {
     "data": {
      "text/html": [
       "<div>\n",
       "<style scoped>\n",
       "    .dataframe tbody tr th:only-of-type {\n",
       "        vertical-align: middle;\n",
       "    }\n",
       "\n",
       "    .dataframe tbody tr th {\n",
       "        vertical-align: top;\n",
       "    }\n",
       "\n",
       "    .dataframe thead th {\n",
       "        text-align: right;\n",
       "    }\n",
       "</style>\n",
       "<table border=\"1\" class=\"dataframe\">\n",
       "  <thead>\n",
       "    <tr style=\"text-align: right;\">\n",
       "      <th></th>\n",
       "      <th>building_series_id</th>\n",
       "      <th>site_id</th>\n",
       "      <th>target</th>\n",
       "      <th>parking</th>\n",
       "      <th>target_string</th>\n",
       "      <th>build_year</th>\n",
       "      <th>expect_demolition</th>\n",
       "      <th>main_image</th>\n",
       "      <th>latitude</th>\n",
       "      <th>total_area</th>\n",
       "      <th>...</th>\n",
       "      <th>area</th>\n",
       "      <th>kitchen_area</th>\n",
       "      <th>day</th>\n",
       "      <th>longitude</th>\n",
       "      <th>price</th>\n",
       "      <th>flats_count</th>\n",
       "      <th>building_type</th>\n",
       "      <th>balcony</th>\n",
       "      <th>locality_name</th>\n",
       "      <th>renovation</th>\n",
       "    </tr>\n",
       "  </thead>\n",
       "  <tbody>\n",
       "    <tr>\n",
       "      <th>0</th>\n",
       "      <td>1564812</td>\n",
       "      <td>0</td>\n",
       "      <td>1</td>\n",
       "      <td>OPEN</td>\n",
       "      <td>LESS_7</td>\n",
       "      <td>2005</td>\n",
       "      <td>False</td>\n",
       "      <td>//avatars.mds.yandex.net/get-realty/903734/add...</td>\n",
       "      <td>55.645313</td>\n",
       "      <td>105.000000</td>\n",
       "      <td>...</td>\n",
       "      <td>105.000000</td>\n",
       "      <td>15.0</td>\n",
       "      <td>2018-07-15</td>\n",
       "      <td>37.657490</td>\n",
       "      <td>95000</td>\n",
       "      <td>407</td>\n",
       "      <td>MONOLIT</td>\n",
       "      <td>BALCONY</td>\n",
       "      <td>Москва</td>\n",
       "      <td>EURO</td>\n",
       "    </tr>\n",
       "    <tr>\n",
       "      <th>1</th>\n",
       "      <td>1564812</td>\n",
       "      <td>0</td>\n",
       "      <td>2</td>\n",
       "      <td>CLOSED</td>\n",
       "      <td>7_14</td>\n",
       "      <td>2010</td>\n",
       "      <td>False</td>\n",
       "      <td>//avatars.mds.yandex.net/get-realty/1702013/ad...</td>\n",
       "      <td>55.537102</td>\n",
       "      <td>40.000000</td>\n",
       "      <td>...</td>\n",
       "      <td>40.000000</td>\n",
       "      <td>10.0</td>\n",
       "      <td>2019-01-18</td>\n",
       "      <td>37.155632</td>\n",
       "      <td>25000</td>\n",
       "      <td>40</td>\n",
       "      <td>MONOLIT</td>\n",
       "      <td>UNKNOWN</td>\n",
       "      <td>посёлок Первомайское</td>\n",
       "      <td>COSMETIC_DONE</td>\n",
       "    </tr>\n",
       "    <tr>\n",
       "      <th>2</th>\n",
       "      <td>663302</td>\n",
       "      <td>0</td>\n",
       "      <td>2</td>\n",
       "      <td>OPEN</td>\n",
       "      <td>7_14</td>\n",
       "      <td>1995</td>\n",
       "      <td>False</td>\n",
       "      <td>//avatars.mds.yandex.net/get-realty/924080/add...</td>\n",
       "      <td>55.662956</td>\n",
       "      <td>37.599998</td>\n",
       "      <td>...</td>\n",
       "      <td>37.599998</td>\n",
       "      <td>0.0</td>\n",
       "      <td>2018-04-24</td>\n",
       "      <td>37.555466</td>\n",
       "      <td>26000</td>\n",
       "      <td>472</td>\n",
       "      <td>PANEL</td>\n",
       "      <td>LOGGIA</td>\n",
       "      <td>Москва</td>\n",
       "      <td>GOOD</td>\n",
       "    </tr>\n",
       "    <tr>\n",
       "      <th>3</th>\n",
       "      <td>1564812</td>\n",
       "      <td>0</td>\n",
       "      <td>2</td>\n",
       "      <td>OPEN</td>\n",
       "      <td>7_14</td>\n",
       "      <td>2018</td>\n",
       "      <td>False</td>\n",
       "      <td>//avatars.mds.yandex.net/get-realty/1521999/ad...</td>\n",
       "      <td>55.669151</td>\n",
       "      <td>80.000000</td>\n",
       "      <td>...</td>\n",
       "      <td>80.000000</td>\n",
       "      <td>20.0</td>\n",
       "      <td>2019-02-19</td>\n",
       "      <td>37.285000</td>\n",
       "      <td>35000</td>\n",
       "      <td>156</td>\n",
       "      <td>PANEL</td>\n",
       "      <td>UNKNOWN</td>\n",
       "      <td>Одинцово</td>\n",
       "      <td>GOOD</td>\n",
       "    </tr>\n",
       "    <tr>\n",
       "      <th>4</th>\n",
       "      <td>1564812</td>\n",
       "      <td>0</td>\n",
       "      <td>3</td>\n",
       "      <td>UNKNOWN</td>\n",
       "      <td>14_30</td>\n",
       "      <td>2004</td>\n",
       "      <td>False</td>\n",
       "      <td>//avatars.mds.yandex.net/get-realty/50286/f5c8...</td>\n",
       "      <td>55.828518</td>\n",
       "      <td>100.000000</td>\n",
       "      <td>...</td>\n",
       "      <td>100.000000</td>\n",
       "      <td>0.0</td>\n",
       "      <td>2017-08-08</td>\n",
       "      <td>37.361897</td>\n",
       "      <td>80000</td>\n",
       "      <td>31</td>\n",
       "      <td>MONOLIT</td>\n",
       "      <td>UNKNOWN</td>\n",
       "      <td>Москва</td>\n",
       "      <td>EURO</td>\n",
       "    </tr>\n",
       "  </tbody>\n",
       "</table>\n",
       "<p>5 rows × 31 columns</p>\n",
       "</div>"
      ],
      "text/plain": [
       "   building_series_id  site_id  target  parking target_string  build_year  \\\n",
       "0             1564812        0       1     OPEN        LESS_7        2005   \n",
       "1             1564812        0       2   CLOSED          7_14        2010   \n",
       "2              663302        0       2     OPEN          7_14        1995   \n",
       "3             1564812        0       2     OPEN          7_14        2018   \n",
       "4             1564812        0       3  UNKNOWN         14_30        2004   \n",
       "\n",
       "   expect_demolition                                         main_image  \\\n",
       "0              False  //avatars.mds.yandex.net/get-realty/903734/add...   \n",
       "1              False  //avatars.mds.yandex.net/get-realty/1702013/ad...   \n",
       "2              False  //avatars.mds.yandex.net/get-realty/924080/add...   \n",
       "3              False  //avatars.mds.yandex.net/get-realty/1521999/ad...   \n",
       "4              False  //avatars.mds.yandex.net/get-realty/50286/f5c8...   \n",
       "\n",
       "    latitude  total_area  ...        area  kitchen_area         day  \\\n",
       "0  55.645313  105.000000  ...  105.000000          15.0  2018-07-15   \n",
       "1  55.537102   40.000000  ...   40.000000          10.0  2019-01-18   \n",
       "2  55.662956   37.599998  ...   37.599998           0.0  2018-04-24   \n",
       "3  55.669151   80.000000  ...   80.000000          20.0  2019-02-19   \n",
       "4  55.828518  100.000000  ...  100.000000           0.0  2017-08-08   \n",
       "\n",
       "   longitude  price  flats_count  building_type  balcony  \\\n",
       "0  37.657490  95000          407        MONOLIT  BALCONY   \n",
       "1  37.155632  25000           40        MONOLIT  UNKNOWN   \n",
       "2  37.555466  26000          472          PANEL   LOGGIA   \n",
       "3  37.285000  35000          156          PANEL  UNKNOWN   \n",
       "4  37.361897  80000           31        MONOLIT  UNKNOWN   \n",
       "\n",
       "          locality_name     renovation  \n",
       "0                Москва           EURO  \n",
       "1  посёлок Первомайское  COSMETIC_DONE  \n",
       "2                Москва           GOOD  \n",
       "3              Одинцово           GOOD  \n",
       "4                Москва           EURO  \n",
       "\n",
       "[5 rows x 31 columns]"
      ]
     },
     "execution_count": 3,
     "metadata": {},
     "output_type": "execute_result"
    }
   ],
   "source": [
    "train.head()"
   ]
  },
  {
   "cell_type": "code",
   "execution_count": 4,
   "metadata": {
    "execution": {
     "iopub.execute_input": "2020-09-27T21:40:28.239416Z",
     "iopub.status.busy": "2020-09-27T21:40:28.237965Z",
     "iopub.status.idle": "2020-09-27T21:40:28.701549Z",
     "shell.execute_reply": "2020-09-27T21:40:28.700736Z"
    },
    "papermill": {
     "duration": 0.497047,
     "end_time": "2020-09-27T21:40:28.701694",
     "exception": false,
     "start_time": "2020-09-27T21:40:28.204647",
     "status": "completed"
    },
    "tags": []
   },
   "outputs": [
    {
     "name": "stdout",
     "output_type": "stream",
     "text": [
      "NaN value in train: 0.01%\n",
      "NaN value in test: 0.04%\n"
     ]
    }
   ],
   "source": [
    "print(f'NaN value in train: {round(train.isna().sum().sum() / (train.shape[0]*train.shape[1]), 4)*100}%')\n",
    "print(f'NaN value in test: {round(test.isna().sum().sum() / (test.shape[0]*test.shape[1]), 4)*100}%')"
   ]
  },
  {
   "cell_type": "code",
   "execution_count": 5,
   "metadata": {
    "execution": {
     "iopub.execute_input": "2020-09-27T21:40:28.763847Z",
     "iopub.status.busy": "2020-09-27T21:40:28.762968Z",
     "iopub.status.idle": "2020-09-27T21:40:28.767515Z",
     "shell.execute_reply": "2020-09-27T21:40:28.768043Z"
    },
    "papermill": {
     "duration": 0.039132,
     "end_time": "2020-09-27T21:40:28.768250",
     "exception": false,
     "start_time": "2020-09-27T21:40:28.729118",
     "status": "completed"
    },
    "tags": []
   },
   "outputs": [
    {
     "data": {
      "text/plain": [
       "Index(['building_series_id', 'site_id', 'target', 'parking', 'target_string',\n",
       "       'build_year', 'expect_demolition', 'main_image', 'latitude',\n",
       "       'total_area', 'ceiling_height', 'rooms', 'floors_total', 'id',\n",
       "       'living_area', 'floor', 'is_apartment', 'building_id', 'has_elevator',\n",
       "       'studio', 'unified_address', 'area', 'kitchen_area', 'day', 'longitude',\n",
       "       'price', 'flats_count', 'building_type', 'balcony', 'locality_name',\n",
       "       'renovation'],\n",
       "      dtype='object')"
      ]
     },
     "execution_count": 5,
     "metadata": {},
     "output_type": "execute_result"
    }
   ],
   "source": [
    "train.columns"
   ]
  },
  {
   "cell_type": "code",
   "execution_count": 6,
   "metadata": {
    "execution": {
     "iopub.execute_input": "2020-09-27T21:40:28.833994Z",
     "iopub.status.busy": "2020-09-27T21:40:28.833120Z",
     "iopub.status.idle": "2020-09-27T21:40:28.869097Z",
     "shell.execute_reply": "2020-09-27T21:40:28.868352Z"
    },
    "papermill": {
     "duration": 0.072969,
     "end_time": "2020-09-27T21:40:28.869271",
     "exception": false,
     "start_time": "2020-09-27T21:40:28.796302",
     "status": "completed"
    },
    "tags": []
   },
   "outputs": [
    {
     "data": {
      "text/plain": [
       "2    0.227032\n",
       "3    0.217119\n",
       "5    0.211532\n",
       "1    0.203655\n",
       "4    0.140662\n",
       "Name: target, dtype: float64"
      ]
     },
     "execution_count": 6,
     "metadata": {},
     "output_type": "execute_result"
    }
   ],
   "source": [
    "train['target'].value_counts(normalize=True)"
   ]
  },
  {
   "cell_type": "markdown",
   "metadata": {
    "papermill": {
     "duration": 0.028166,
     "end_time": "2020-09-27T21:40:28.926120",
     "exception": false,
     "start_time": "2020-09-27T21:40:28.897954",
     "status": "completed"
    },
    "tags": []
   },
   "source": [
    "**Important notes after elemental analysis:**\n",
    "\n",
    "* unnecessary columns - **'site_id'** (columns in constant 0), **'target_string'**, **'main_image'** (at the moment we are working with tabular data), **'total_area'** (duplicates a column 'area), **'id'**, **'builing_id'** (the organizers said this was a wrong column)\n",
    "* no missing data? *(we'll find out later)*\n",
    "* almost all classes are balanced"
   ]
  },
  {
   "cell_type": "code",
   "execution_count": 7,
   "metadata": {
    "execution": {
     "iopub.execute_input": "2020-09-27T21:40:29.017286Z",
     "iopub.status.busy": "2020-09-27T21:40:29.016424Z",
     "iopub.status.idle": "2020-09-27T21:40:29.956903Z",
     "shell.execute_reply": "2020-09-27T21:40:29.957516Z"
    },
    "papermill": {
     "duration": 1.002821,
     "end_time": "2020-09-27T21:40:29.957695",
     "exception": false,
     "start_time": "2020-09-27T21:40:28.954874",
     "status": "completed"
    },
    "tags": []
   },
   "outputs": [
    {
     "data": {
      "image/png": "[encoded data removed]",
      "text/plain": [
       "<Figure size 432x288 with 1 Axes>"
      ]
     },
     "metadata": {
      "needs_background": "light"
     },
     "output_type": "display_data"
    },
    {
     "data": {
      "image/png": "[encoded data removed]",
      "text/plain": [
       "<Figure size 432x288 with 1 Axes>"
      ]
     },
     "metadata": {
      "needs_background": "light"
     },
     "output_type": "display_data"
    },
    {
     "data": {
      "image/png": "[encoded data removed]",
      "text/plain": [
       "<Figure size 432x288 with 1 Axes>"
      ]
     },
     "metadata": {
      "needs_background": "light"
     },
     "output_type": "display_data"
    }
   ],
   "source": [
    "sns.countplot(data=train, x='parking').set_title('Parking count')\n",
    "plt.xticks(\n",
    "    rotation=45, \n",
    "    horizontalalignment='right')\n",
    "plt.show()\n",
    "sns.countplot(data=train, x='building_type').set_title('Building_type count')\n",
    "plt.xticks(\n",
    "    rotation=45, \n",
    "    horizontalalignment='right')\n",
    "plt.show()\n",
    "sns.countplot(data=train, x='renovation').set_title('Renovation count')\n",
    "plt.xticks(\n",
    "    rotation=45, \n",
    "    horizontalalignment='right')\n",
    "plt.show()"
   ]
  },
  {
   "cell_type": "code",
   "execution_count": 8,
   "metadata": {
    "execution": {
     "iopub.execute_input": "2020-09-27T21:40:30.037012Z",
     "iopub.status.busy": "2020-09-27T21:40:30.036197Z",
     "iopub.status.idle": "2020-09-27T21:40:31.248850Z",
     "shell.execute_reply": "2020-09-27T21:40:31.248039Z"
    },
    "papermill": {
     "duration": 1.258908,
     "end_time": "2020-09-27T21:40:31.248993",
     "exception": false,
     "start_time": "2020-09-27T21:40:29.990085",
     "status": "completed"
    },
    "tags": []
   },
   "outputs": [
    {
     "data": {
      "image/png": "[encoded data removed]",
      "text/plain": [
       "<Figure size 432x288 with 1 Axes>"
      ]
     },
     "metadata": {
      "needs_background": "light"
     },
     "output_type": "display_data"
    },
    {
     "data": {
      "image/png": "[encoded data removed]",
      "text/plain": [
       "<Figure size 432x288 with 1 Axes>"
      ]
     },
     "metadata": {
      "needs_background": "light"
     },
     "output_type": "display_data"
    },
    {
     "data": {
      "image/png": "[encoded data removed]",
      "text/plain": [
       "<Figure size 432x288 with 1 Axes>"
      ]
     },
     "metadata": {
      "needs_background": "light"
     },
     "output_type": "display_data"
    }
   ],
   "source": [
    "sns.distplot(train['build_year']).set_title('Build_year distribution')\n",
    "plt.show()\n",
    "sns.distplot(train['ceiling_height']).set_title('Ceiling_height distribution')\n",
    "plt.show()\n",
    "sns.distplot(train['area']).set_title('Area distribution')\n",
    "plt.show()"
   ]
  },
  {
   "cell_type": "markdown",
   "metadata": {
    "papermill": {
     "duration": 0.034727,
     "end_time": "2020-09-27T21:40:31.319596",
     "exception": false,
     "start_time": "2020-09-27T21:40:31.284869",
     "status": "completed"
    },
    "tags": []
   },
   "source": [
    "> Looking at the values of the categorical and numeric columns, we noticed that the **data is rather dirty** *(a lot of 0 and UNKNOWN values)*. Since this is user data, the question arose whether these values should be dealt with? **(These are outliers or the user did not fill in these fields in the advert)**.\n",
    "\n",
    "We decided to **remove only obvious outliers**, so as not to waste a lot of time on this. Replacements were checked for validation.\n",
    "\n",
    "# Preproccessing"
   ]
  },
  {
   "cell_type": "code",
   "execution_count": 9,
   "metadata": {
    "execution": {
     "iopub.execute_input": "2020-09-27T21:40:31.397755Z",
     "iopub.status.busy": "2020-09-27T21:40:31.396722Z",
     "iopub.status.idle": "2020-09-27T21:40:31.400384Z",
     "shell.execute_reply": "2020-09-27T21:40:31.399713Z"
    },
    "papermill": {
     "duration": 0.045751,
     "end_time": "2020-09-27T21:40:31.400551",
     "exception": false,
     "start_time": "2020-09-27T21:40:31.354800",
     "status": "completed"
    },
    "tags": []
   },
   "outputs": [],
   "source": [
    "to_drop = ['site_id', 'target_string', 'main_image', 'id', 'total_area', 'building_id', 'day']\n",
    "\n",
    "def drop_col(df, to_drop):\n",
    "    df = df.drop(to_drop, axis=1)\n",
    "    return df"
   ]
  },
  {
   "cell_type": "code",
   "execution_count": 10,
   "metadata": {
    "execution": {
     "iopub.execute_input": "2020-09-27T21:40:31.485382Z",
     "iopub.status.busy": "2020-09-27T21:40:31.484581Z",
     "iopub.status.idle": "2020-09-27T21:40:31.526754Z",
     "shell.execute_reply": "2020-09-27T21:40:31.525920Z"
    },
    "papermill": {
     "duration": 0.090102,
     "end_time": "2020-09-27T21:40:31.526893",
     "exception": false,
     "start_time": "2020-09-27T21:40:31.436791",
     "status": "completed"
    },
    "tags": []
   },
   "outputs": [],
   "source": [
    "train_df = drop_col(train, to_drop)"
   ]
  },
  {
   "cell_type": "code",
   "execution_count": 11,
   "metadata": {
    "execution": {
     "iopub.execute_input": "2020-09-27T21:40:31.611650Z",
     "iopub.status.busy": "2020-09-27T21:40:31.610622Z",
     "iopub.status.idle": "2020-09-27T21:40:31.613451Z",
     "shell.execute_reply": "2020-09-27T21:40:31.613984Z"
    },
    "papermill": {
     "duration": 0.051623,
     "end_time": "2020-09-27T21:40:31.614161",
     "exception": false,
     "start_time": "2020-09-27T21:40:31.562538",
     "status": "completed"
    },
    "tags": []
   },
   "outputs": [],
   "source": [
    "def replace(df):\n",
    "    df.loc[df.build_year == 0, 'build_year'] = np.NaN\n",
    "    df['build_year'] = df['build_year'].fillna((df.groupby(['building_series_id'])['build_year'].transform('median')))\n",
    "        \n",
    "    df.loc[(df.has_elevator==0) & (df.floor>5), 'has_elevator'] = 1\n",
    "    \n",
    "    df.loc[df.price<100, 'price'] *= 1000\n",
    "    \n",
    "    df.loc[(df.ceiling_height<2) | (df.ceiling_height>5), 'ceiling_height'] = np.NaN\n",
    "    df['ceiling_height'] = df['ceiling_height'].fillna(df.groupby(['floors_total','flats_count'])['ceiling_height'].transform('median'))\n",
    "    \n",
    "    df = df[df.area>df.kitchen_area].reset_index(drop=True)\n",
    "\n",
    "    \n",
    "    return df"
   ]
  },
  {
   "cell_type": "code",
   "execution_count": 12,
   "metadata": {
    "execution": {
     "iopub.execute_input": "2020-09-27T21:40:31.692846Z",
     "iopub.status.busy": "2020-09-27T21:40:31.692011Z",
     "iopub.status.idle": "2020-09-27T21:40:32.198632Z",
     "shell.execute_reply": "2020-09-27T21:40:32.197920Z"
    },
    "papermill": {
     "duration": 0.548975,
     "end_time": "2020-09-27T21:40:32.198775",
     "exception": false,
     "start_time": "2020-09-27T21:40:31.649800",
     "status": "completed"
    },
    "tags": []
   },
   "outputs": [],
   "source": [
    "train_df = replace(train_df)\n",
    "test_df = replace(test)"
   ]
  },
  {
   "cell_type": "markdown",
   "metadata": {
    "papermill": {
     "duration": 0.035295,
     "end_time": "2020-09-27T21:40:32.270198",
     "exception": false,
     "start_time": "2020-09-27T21:40:32.234903",
     "status": "completed"
    },
    "tags": []
   },
   "source": [
    "**Of the interesting features:** it was considered that prices less than 100 differ from similar ads in the city differ on average by 1000 times. That is, the user may have forgotten to add zeros or entered the price in thousands."
   ]
  },
  {
   "cell_type": "code",
   "execution_count": 13,
   "metadata": {
    "execution": {
     "iopub.execute_input": "2020-09-27T21:40:32.356986Z",
     "iopub.status.busy": "2020-09-27T21:40:32.355872Z",
     "iopub.status.idle": "2020-09-27T21:40:32.359501Z",
     "shell.execute_reply": "2020-09-27T21:40:32.358903Z"
    },
    "papermill": {
     "duration": 0.053584,
     "end_time": "2020-09-27T21:40:32.359641",
     "exception": false,
     "start_time": "2020-09-27T21:40:32.306057",
     "status": "completed"
    },
    "tags": []
   },
   "outputs": [],
   "source": [
    "def mapping(df):\n",
    "    \n",
    "    balcony_map = {'UNKNOWN': 0, 'BALCONY': 1, 'LOGGIA':0, 'TWO_LOGGIA':0, 'TWO_BALCONY':2, 'BALCONY__LOGGIA':1,\n",
    "              'BALCONY__TWO_LOGGIA':1, 'THREE_LOGGIA':0, 'THREE_BALCONY':2}\n",
    "    loggia_map = {'UNKNOWN': 0, 'BALCONY': 0, 'LOGGIA':1, 'TWO_LOGGIA':2, 'TWO_BALCONY':0, 'BALCONY__LOGGIA':1,\n",
    "              'BALCONY__TWO_LOGGIA':2, 'THREE_LOGGIA':2, 'THREE_BALCONY':0}\n",
    "\n",
    "    df['expect_demolition'] = df['expect_demolition'].map({False:0,True:1})\n",
    "    df['is_apartment'] = df['is_apartment'].map({False:0,True:1})\n",
    "    df['has_elevator'] = df['has_elevator'].map({False:0,True:1})\n",
    "    df['studio'] = df['studio'].map({False:0,True:1})\n",
    "    df['num_balcony'] = df['balcony'].map(balcony_map)\n",
    "    df['num_loggia'] = df['balcony'].map(loggia_map)\n",
    "    \n",
    "    return df"
   ]
  },
  {
   "cell_type": "code",
   "execution_count": 14,
   "metadata": {
    "execution": {
     "iopub.execute_input": "2020-09-27T21:40:32.440960Z",
     "iopub.status.busy": "2020-09-27T21:40:32.440146Z",
     "iopub.status.idle": "2020-09-27T21:40:32.799092Z",
     "shell.execute_reply": "2020-09-27T21:40:32.798402Z"
    },
    "papermill": {
     "duration": 0.403465,
     "end_time": "2020-09-27T21:40:32.799268",
     "exception": false,
     "start_time": "2020-09-27T21:40:32.395803",
     "status": "completed"
    },
    "tags": []
   },
   "outputs": [],
   "source": [
    "train_df = mapping(train_df)\n",
    "test_df = mapping(test_df)"
   ]
  },
  {
   "cell_type": "markdown",
   "metadata": {
    "papermill": {
     "duration": 0.035936,
     "end_time": "2020-09-27T21:40:32.871890",
     "exception": false,
     "start_time": "2020-09-27T21:40:32.835954",
     "status": "completed"
    },
    "tags": []
   },
   "source": [
    "**What to do with the remaining categorical features?** Suppose a certain category is encountered only a few times and the corresponding objects belong to class 1. Then the average value of the target variable will also be 1. However, a completely different situation may arise on the test sample. **The solution is the smoothed average (or smoothed likelihood)**, which is calculated using the following formula:\n",
    "\n",
    "\n",
    "![smothed](https://habrastorage.org/files/686/41f/eea/68641feea22e4a31a3f5eb5a86fd841c.png)\n",
    "\n",
    "\n",
    "Here **global mean** is the average value of the target variable over the entire sample, nrows is the number of times a specific value of the categorical variable is encountered, **alpha** is the regularization parameter. Now, if some value is rare, the global average will have more weight, and if often enough, the result will be close to the starting category average."
   ]
  },
  {
   "cell_type": "code",
   "execution_count": 15,
   "metadata": {
    "execution": {
     "iopub.execute_input": "2020-09-27T21:40:32.958866Z",
     "iopub.status.busy": "2020-09-27T21:40:32.957830Z",
     "iopub.status.idle": "2020-09-27T21:40:32.961248Z",
     "shell.execute_reply": "2020-09-27T21:40:32.960593Z"
    },
    "papermill": {
     "duration": 0.053186,
     "end_time": "2020-09-27T21:40:32.961390",
     "exception": false,
     "start_time": "2020-09-27T21:40:32.908204",
     "status": "completed"
    },
    "tags": []
   },
   "outputs": [],
   "source": [
    "def smoothed_likelihood(df, column, alpha, target_column, test_df):\n",
    "    global_mean = df[target_column].mean()\n",
    "    nrows = df.groupby(column).count()[target_column].to_dict()\n",
    "    local_mean = df.groupby(column).mean()[target_column].to_dict()\n",
    "    if test_df is None:\n",
    "        new_column = df[column].apply(lambda x: (local_mean[x]*nrows[x] + global_mean*alpha)/(nrows[x]+alpha))\n",
    "    else:\n",
    "        new_column = test_df[column].apply(lambda x: (local_mean[x]*nrows[x] + global_mean*alpha)/(nrows[x]+alpha) if x in local_mean.keys() else global_mean)\n",
    "    return new_column"
   ]
  },
  {
   "cell_type": "code",
   "execution_count": 16,
   "metadata": {
    "execution": {
     "iopub.execute_input": "2020-09-27T21:40:33.043080Z",
     "iopub.status.busy": "2020-09-27T21:40:33.042265Z",
     "iopub.status.idle": "2020-09-27T21:40:40.627785Z",
     "shell.execute_reply": "2020-09-27T21:40:40.626920Z"
    },
    "papermill": {
     "duration": 7.629879,
     "end_time": "2020-09-27T21:40:40.627929",
     "exception": false,
     "start_time": "2020-09-27T21:40:32.998050",
     "status": "completed"
    },
    "tags": []
   },
   "outputs": [],
   "source": [
    "cat_columns = ['parking', 'unified_address','building_type','locality_name','renovation', 'building_series_id']\n",
    "\n",
    "for col in cat_columns:\n",
    "    train_df[col] = smoothed_likelihood(train_df, col, 0.15, 'target', None)\n",
    "    test_df[col] = smoothed_likelihood(train_df, col, 0.15, 'target', test_df)"
   ]
  },
  {
   "cell_type": "markdown",
   "metadata": {
    "papermill": {
     "duration": 0.03635,
     "end_time": "2020-09-27T21:40:40.701272",
     "exception": false,
     "start_time": "2020-09-27T21:40:40.664922",
     "status": "completed"
    },
    "tags": []
   },
   "source": [
    "We had little time, but we tried to **create useful new features**. During the work there were about 30 of them, we have identified the most useful ones."
   ]
  },
  {
   "cell_type": "code",
   "execution_count": 17,
   "metadata": {
    "execution": {
     "iopub.execute_input": "2020-09-27T21:40:40.785063Z",
     "iopub.status.busy": "2020-09-27T21:40:40.784238Z",
     "iopub.status.idle": "2020-09-27T21:40:40.788261Z",
     "shell.execute_reply": "2020-09-27T21:40:40.787478Z"
    },
    "papermill": {
     "duration": 0.050475,
     "end_time": "2020-09-27T21:40:40.788404",
     "exception": false,
     "start_time": "2020-09-27T21:40:40.737929",
     "status": "completed"
    },
    "tags": []
   },
   "outputs": [],
   "source": [
    "def haversine_dist(lat1,lng1,lat2,lng2):\n",
    "    lat1, lng1, lat2, lng2 = map(np.radians, (lat1, lng1, lat2, lng2))\n",
    "    radius = 6371  # Earth's radius taken from google\n",
    "    lat = lat2 - lat1\n",
    "    lng = lng2 - lng1\n",
    "    d = np.sin(lat/2) ** 2 + np.cos(lat1) * np.cos(lat2) * np.sin(lng/2) ** 2\n",
    "    h = 2 * radius * np.arcsin(np.sqrt(d))\n",
    "    return h"
   ]
  },
  {
   "cell_type": "code",
   "execution_count": 18,
   "metadata": {
    "execution": {
     "iopub.execute_input": "2020-09-27T21:40:40.874121Z",
     "iopub.status.busy": "2020-09-27T21:40:40.873131Z",
     "iopub.status.idle": "2020-09-27T21:40:40.876228Z",
     "shell.execute_reply": "2020-09-27T21:40:40.875604Z"
    },
    "papermill": {
     "duration": 0.05123,
     "end_time": "2020-09-27T21:40:40.876360",
     "exception": false,
     "start_time": "2020-09-27T21:40:40.825130",
     "status": "completed"
    },
    "tags": []
   },
   "outputs": [],
   "source": [
    "def eng(df):\n",
    "    \n",
    "    df['years_old'] = 2020 - df['build_year']\n",
    "    \n",
    "    moskow_lat = 55.751244\n",
    "    moskow_lon = 37.618423\n",
    "    df['moskow_dist'] = np.sqrt((df['latitude'] - moskow_lat)**2 + (df['longitude'] - moskow_lon)**2)\n",
    "    \n",
    "    \n",
    "    df['rot_45_x'] = (0.707 * df['latitude']) + (0.707 * df['longitude'])\n",
    "    #df['rot_45_y'] = (0.707 * df['longitude']) + (0.707 * df['latitude'])\n",
    "    df['rot_30_x'] = (0.866 * df['latitude']) + (0.5 * df['longitude'])\n",
    "    df['rot_30_y'] = (0.866 * df['longitude']) + (0.5 * df['latitude'])\n",
    "    \n",
    "    df['haversine_moskow'] = haversine_dist(df['latitude'], df['longitude'], 55.751244, 37.618423)\n",
    "        \n",
    "    return df"
   ]
  },
  {
   "cell_type": "code",
   "execution_count": 19,
   "metadata": {
    "execution": {
     "iopub.execute_input": "2020-09-27T21:40:40.959047Z",
     "iopub.status.busy": "2020-09-27T21:40:40.958273Z",
     "iopub.status.idle": "2020-09-27T21:40:41.045143Z",
     "shell.execute_reply": "2020-09-27T21:40:41.044358Z"
    },
    "papermill": {
     "duration": 0.131615,
     "end_time": "2020-09-27T21:40:41.045304",
     "exception": false,
     "start_time": "2020-09-27T21:40:40.913689",
     "status": "completed"
    },
    "tags": []
   },
   "outputs": [],
   "source": [
    "train_df = eng(train_df)\n",
    "test_df = eng(test_df)"
   ]
  },
  {
   "cell_type": "markdown",
   "metadata": {
    "papermill": {
     "duration": 0.037354,
     "end_time": "2020-09-27T21:40:41.120082",
     "exception": false,
     "start_time": "2020-09-27T21:40:41.082728",
     "status": "completed"
    },
    "tags": []
   },
   "source": [
    "**From what else you could try:**\n",
    "* extract streets from addresses and search for large streets closest to houses\n",
    "* calculate the distance from home to the center of each city, not Moscow\n",
    "* use external data (e.g. metro coordinates)\n",
    "* working with images"
   ]
  },
  {
   "cell_type": "markdown",
   "metadata": {
    "papermill": {
     "duration": 0.036668,
     "end_time": "2020-09-27T21:40:41.194278",
     "exception": false,
     "start_time": "2020-09-27T21:40:41.157610",
     "status": "completed"
    },
    "tags": []
   },
   "source": [
    "# Modeling\n",
    "\n",
    "* we used LGBM for modeling\n",
    "* it was performed with respect to StratifiedKFold cross validation on 5 folds\n",
    "* due to lack of time, do not fine-tune the model\n",
    "* tried neural networks\n",
    "* had a quick feature selection. We track the diff when removing a feature on cross-validation with 5 repetitions and averaging the result"
   ]
  },
  {
   "cell_type": "code",
   "execution_count": 20,
   "metadata": {
    "execution": {
     "iopub.execute_input": "2020-09-27T21:40:41.276260Z",
     "iopub.status.busy": "2020-09-27T21:40:41.275241Z",
     "iopub.status.idle": "2020-09-27T21:40:41.616814Z",
     "shell.execute_reply": "2020-09-27T21:40:41.615825Z"
    },
    "papermill": {
     "duration": 0.385908,
     "end_time": "2020-09-27T21:40:41.617002",
     "exception": false,
     "start_time": "2020-09-27T21:40:41.231094",
     "status": "completed"
    },
    "tags": []
   },
   "outputs": [],
   "source": [
    "from lightgbm import LGBMRegressor, LGBMClassifier\n",
    "from sklearn.model_selection import StratifiedKFold, KFold\n",
    "from catboost import CatBoostRegressor, CatBoostClassifier\n",
    "\n",
    "seed = 47\n",
    "\n",
    "kfold = StratifiedKFold(n_splits=5, random_state=seed, shuffle=True)\n",
    "lgbm = LGBMRegressor(random_state=seed, n_estimators=500, learning_rate=0.1)"
   ]
  },
  {
   "cell_type": "code",
   "execution_count": 21,
   "metadata": {
    "execution": {
     "iopub.execute_input": "2020-09-27T21:40:41.705936Z",
     "iopub.status.busy": "2020-09-27T21:40:41.700918Z",
     "iopub.status.idle": "2020-09-27T21:40:41.710884Z",
     "shell.execute_reply": "2020-09-27T21:40:41.711472Z"
    },
    "papermill": {
     "duration": 0.057123,
     "end_time": "2020-09-27T21:40:41.711665",
     "exception": false,
     "start_time": "2020-09-27T21:40:41.654542",
     "status": "completed"
    },
    "tags": []
   },
   "outputs": [],
   "source": [
    "def calc(X,y,X_test, model, cv, cols, oof):\n",
    "    \n",
    "    if cols is None:\n",
    "        cols = X.columns\n",
    "    X=X[cols]\n",
    "    \n",
    "    res=[]\n",
    "    local_probs = pd.DataFrame()\n",
    "    for i, (tdx, vdx) in enumerate(cv.split(X, y)):\n",
    "        X_train, X_valid, y_train, y_valid = X.iloc[tdx], X.iloc[vdx], y.iloc[tdx], y.iloc[vdx]\n",
    "        model.fit(X_train, y_train,\n",
    "                 eval_set=[(X_train, y_train), (X_valid, y_valid)],\n",
    "                 early_stopping_rounds=30, \n",
    "                  verbose=False)   \n",
    "        preds = model.predict(X_valid)\n",
    "        \n",
    "        if oof==1:\n",
    "            X_test=X_test[cols]\n",
    "            oof_predict = model.predict(X_test)\n",
    "            local_probs['fold_%i'%i] = oof_predict\n",
    "            \n",
    "        y_valid = y_valid.to_numpy().reshape(1,-1)[0]\n",
    "        ll = metric(y_valid, np.round(preds))\n",
    "        print(f'{i} Fold: {ll:.4f}')\n",
    "        res.append(ll)\n",
    "        \n",
    "        \n",
    "    print(f'AVG score: {np.mean(res)}')\n",
    "    return np.mean(res), local_probs.mean(axis=1)"
   ]
  },
  {
   "cell_type": "markdown",
   "metadata": {
    "papermill": {
     "duration": 0.037035,
     "end_time": "2020-09-27T21:40:41.786336",
     "exception": false,
     "start_time": "2020-09-27T21:40:41.749301",
     "status": "completed"
    },
    "tags": []
   },
   "source": [
    "## Predict"
   ]
  },
  {
   "cell_type": "code",
   "execution_count": 22,
   "metadata": {
    "execution": {
     "iopub.execute_input": "2020-09-27T21:40:41.871983Z",
     "iopub.status.busy": "2020-09-27T21:40:41.870071Z",
     "iopub.status.idle": "2020-09-27T21:41:19.085761Z",
     "shell.execute_reply": "2020-09-27T21:41:19.086573Z"
    },
    "papermill": {
     "duration": 37.262941,
     "end_time": "2020-09-27T21:41:19.086790",
     "exception": false,
     "start_time": "2020-09-27T21:40:41.823849",
     "status": "completed"
    },
    "tags": []
   },
   "outputs": [
    {
     "name": "stdout",
     "output_type": "stream",
     "text": [
      "0 Fold: -2.5716\n",
      "1 Fold: -2.5920\n",
      "2 Fold: -2.5917\n",
      "3 Fold: -2.6073\n",
      "4 Fold: -2.5921\n",
      "AVG score: -2.5909571924971653\n"
     ]
    }
   ],
   "source": [
    "X = train_df.drop(['target', 'balcony', 'floor', 'ceiling_height','build_year','studio'], axis=1)#, 'unified_address', 'locality_name'\n",
    "y = train_df[['target']]\n",
    "\n",
    "_, res_df = calc(X,y,test_df, lgbm, kfold, None, 1)"
   ]
  },
  {
   "cell_type": "code",
   "execution_count": 23,
   "metadata": {
    "execution": {
     "iopub.execute_input": "2020-09-27T21:41:19.192935Z",
     "iopub.status.busy": "2020-09-27T21:41:19.192066Z",
     "iopub.status.idle": "2020-09-27T21:41:19.747347Z",
     "shell.execute_reply": "2020-09-27T21:41:19.746309Z"
    },
    "papermill": {
     "duration": 0.61261,
     "end_time": "2020-09-27T21:41:19.747560",
     "exception": false,
     "start_time": "2020-09-27T21:41:19.134950",
     "status": "completed"
    },
    "tags": []
   },
   "outputs": [],
   "source": [
    "submission['target'] = np.round(res_df).astype(int)\n",
    "submission['target'].value_counts(normalize=True)\n",
    "submission.to_csv('submission.tsv', sep='\\t', index=False)"
   ]
  },
  {
   "cell_type": "markdown",
   "metadata": {
    "papermill": {
     "duration": 0.03917,
     "end_time": "2020-09-27T21:41:19.831874",
     "exception": false,
     "start_time": "2020-09-27T21:41:19.792704",
     "status": "completed"
    },
    "tags": []
   },
   "source": [
    "## As a result, we took 7th place among over 50 teams. The gap between 1st and 7th place was 0.2. Thank you for watching, waiting your comments!"
   ]
  }
 ],
 "metadata": {
  "kernelspec": {
   "display_name": "Python 3",
   "language": "python",
   "name": "python3"
  },
  "language_info": {
   "codemirror_mode": {
    "name": "ipython",
    "version": 3
   },
   "file_extension": ".py",
   "mimetype": "text/x-python",
   "name": "python",
   "nbconvert_exporter": "python",
   "pygments_lexer": "ipython3",
   "version": "3.7.6"
  },
  "papermill": {
   "duration": 63.829333,
   "end_time": "2020-09-27T21:41:19.981270",
   "environment_variables": {},
   "exception": null,
   "input_path": "__notebook__.ipynb",
   "output_path": "__notebook__.ipynb",
   "parameters": {},
   "start_time": "2020-09-27T21:40:16.151937",
   "version": "2.1.0"
  }
 },
 "nbformat": 4,
 "nbformat_minor": 4
}
